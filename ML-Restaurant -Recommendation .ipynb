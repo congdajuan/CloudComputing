{
 "cells": [
  {
   "cell_type": "markdown",
   "metadata": {},
   "source": [
    "## Set up"
   ]
  },
  {
   "cell_type": "markdown",
   "metadata": {
    "nbpresent": {
     "id": "b2548d66-6f8f-426f-9cda-7a3cd1459abd"
    }
   },
   "source": [
    "Import the Python libraries required"
   ]
  },
  {
   "cell_type": "code",
   "execution_count": 3,
   "metadata": {
    "isConfigCell": true,
    "nbpresent": {
     "id": "6427e831-8f89-45c0-b150-0b134397d79a"
    }
   },
   "outputs": [],
   "source": [
    "import boto3\n",
    "from sagemaker import get_execution_role\n",
    "import sagemaker.amazon.common as smac\n",
    "from sagemaker.amazon.amazon_estimator import get_image_uri\n",
    "import pandas as pd\n",
    "import io\n",
    "import time\n",
    "import os\n",
    "import json\n",
    "import csv"
   ]
  },
  {
   "cell_type": "markdown",
   "metadata": {},
   "source": [
    "Specify role, bucket and prefix"
   ]
  },
  {
   "cell_type": "code",
   "execution_count": 4,
   "metadata": {
    "nbpresent": {
     "id": "bb88eea9-27f3-4e47-9133-663911ea09a9"
    }
   },
   "outputs": [],
   "source": [
    "role = get_execution_role()\n",
    "\n",
    "bucket = 'yelp-test'\n",
    "prefix = 'my-restaurants' "
   ]
  },
  {
   "cell_type": "markdown",
   "metadata": {},
   "source": [
    "## Preprocess the dataset "
   ]
  },
  {
   "cell_type": "markdown",
   "metadata": {},
   "source": [
    "Import training dataset from FILE_2.csv"
   ]
  },
  {
   "cell_type": "code",
   "execution_count": 7,
   "metadata": {},
   "outputs": [
    {
     "name": "stdout",
     "output_type": "stream",
     "text": [
      "(200, 5)\n"
     ]
    },
    {
     "data": {
      "text/html": [
       "<div>\n",
       "<style scoped>\n",
       "    .dataframe tbody tr th:only-of-type {\n",
       "        vertical-align: middle;\n",
       "    }\n",
       "\n",
       "    .dataframe tbody tr th {\n",
       "        vertical-align: top;\n",
       "    }\n",
       "\n",
       "    .dataframe thead th {\n",
       "        text-align: right;\n",
       "    }\n",
       "</style>\n",
       "<table border=\"1\" class=\"dataframe\">\n",
       "  <thead>\n",
       "    <tr style=\"text-align: right;\">\n",
       "      <th></th>\n",
       "      <th>Business_ID</th>\n",
       "      <th>Cuisine_Type</th>\n",
       "      <th>Number_of_Reviews</th>\n",
       "      <th>Rating</th>\n",
       "      <th>Recommended</th>\n",
       "    </tr>\n",
       "  </thead>\n",
       "  <tbody>\n",
       "    <tr>\n",
       "      <th>0</th>\n",
       "      <td>44SY464xDHbvOcjDzRbKkQ</td>\n",
       "      <td>Korean</td>\n",
       "      <td>9709</td>\n",
       "      <td>4.0</td>\n",
       "      <td>1</td>\n",
       "    </tr>\n",
       "    <tr>\n",
       "      <th>1</th>\n",
       "      <td>44SY464xDHbvOcjDzRbKkQ</td>\n",
       "      <td>Korean</td>\n",
       "      <td>9709</td>\n",
       "      <td>4.0</td>\n",
       "      <td>1</td>\n",
       "    </tr>\n",
       "    <tr>\n",
       "      <th>2</th>\n",
       "      <td>H4jJ7XB3CetIr1pg56CczQ</td>\n",
       "      <td>France</td>\n",
       "      <td>7458</td>\n",
       "      <td>4.5</td>\n",
       "      <td>1</td>\n",
       "    </tr>\n",
       "    <tr>\n",
       "      <th>3</th>\n",
       "      <td>H4jJ7XB3CetIr1pg56CczQ</td>\n",
       "      <td>France</td>\n",
       "      <td>7458</td>\n",
       "      <td>4.5</td>\n",
       "      <td>1</td>\n",
       "    </tr>\n",
       "    <tr>\n",
       "      <th>4</th>\n",
       "      <td>WIhm0W9197f_rRtDziq5qQ</td>\n",
       "      <td>Italian</td>\n",
       "      <td>5826</td>\n",
       "      <td>4.0</td>\n",
       "      <td>1</td>\n",
       "    </tr>\n",
       "  </tbody>\n",
       "</table>\n",
       "</div>"
      ],
      "text/plain": [
       "              Business_ID Cuisine_Type  Number_of_Reviews  Rating  Recommended\n",
       "0  44SY464xDHbvOcjDzRbKkQ       Korean               9709     4.0            1\n",
       "1  44SY464xDHbvOcjDzRbKkQ       Korean               9709     4.0            1\n",
       "2  H4jJ7XB3CetIr1pg56CczQ       France               7458     4.5            1\n",
       "3  H4jJ7XB3CetIr1pg56CczQ       France               7458     4.5            1\n",
       "4  WIhm0W9197f_rRtDziq5qQ      Italian               5826     4.0            1"
      ]
     },
     "metadata": {},
     "output_type": "display_data"
    },
    {
     "data": {
      "text/plain": [
       "1    100\n",
       "0    100\n",
       "Name: Recommended, dtype: int64"
      ]
     },
     "metadata": {},
     "output_type": "display_data"
    }
   ],
   "source": [
    "train_data = pd.read_csv('s3://yelp-test/my-restaurants/FILE_2.csv')\n",
    "train_data.columns = [\"Business_ID\", \"Cuisine_Type\", \"Number_of_Reviews\", \"Rating\", \"Recommended\"]\n",
    "print(train_data.shape)    \n",
    "display(train_data.head())     \n",
    "display(train_data.Recommended.value_counts())"
   ]
  },
  {
   "cell_type": "markdown",
   "metadata": {},
   "source": [
    "Prepare the label and input features"
   ]
  },
  {
   "cell_type": "code",
   "execution_count": 8,
   "metadata": {},
   "outputs": [
    {
     "name": "stdout",
     "output_type": "stream",
     "text": [
      "(200, 5)\n"
     ]
    },
    {
     "data": {
      "text/html": [
       "<div>\n",
       "<style scoped>\n",
       "    .dataframe tbody tr th:only-of-type {\n",
       "        vertical-align: middle;\n",
       "    }\n",
       "\n",
       "    .dataframe tbody tr th {\n",
       "        vertical-align: top;\n",
       "    }\n",
       "\n",
       "    .dataframe thead th {\n",
       "        text-align: right;\n",
       "    }\n",
       "</style>\n",
       "<table border=\"1\" class=\"dataframe\">\n",
       "  <thead>\n",
       "    <tr style=\"text-align: right;\">\n",
       "      <th></th>\n",
       "      <th>Business_ID</th>\n",
       "      <th>Cuisine_Type</th>\n",
       "      <th>Number_of_Reviews</th>\n",
       "      <th>Rating</th>\n",
       "      <th>Recommended</th>\n",
       "    </tr>\n",
       "  </thead>\n",
       "  <tbody>\n",
       "    <tr>\n",
       "      <th>0</th>\n",
       "      <td>44SY464xDHbvOcjDzRbKkQ</td>\n",
       "      <td>2</td>\n",
       "      <td>9709</td>\n",
       "      <td>4.0</td>\n",
       "      <td>1</td>\n",
       "    </tr>\n",
       "    <tr>\n",
       "      <th>1</th>\n",
       "      <td>44SY464xDHbvOcjDzRbKkQ</td>\n",
       "      <td>2</td>\n",
       "      <td>9709</td>\n",
       "      <td>4.0</td>\n",
       "      <td>1</td>\n",
       "    </tr>\n",
       "    <tr>\n",
       "      <th>2</th>\n",
       "      <td>H4jJ7XB3CetIr1pg56CczQ</td>\n",
       "      <td>6</td>\n",
       "      <td>7458</td>\n",
       "      <td>4.5</td>\n",
       "      <td>1</td>\n",
       "    </tr>\n",
       "    <tr>\n",
       "      <th>3</th>\n",
       "      <td>H4jJ7XB3CetIr1pg56CczQ</td>\n",
       "      <td>6</td>\n",
       "      <td>7458</td>\n",
       "      <td>4.5</td>\n",
       "      <td>1</td>\n",
       "    </tr>\n",
       "    <tr>\n",
       "      <th>4</th>\n",
       "      <td>WIhm0W9197f_rRtDziq5qQ</td>\n",
       "      <td>3</td>\n",
       "      <td>5826</td>\n",
       "      <td>4.0</td>\n",
       "      <td>1</td>\n",
       "    </tr>\n",
       "  </tbody>\n",
       "</table>\n",
       "</div>"
      ],
      "text/plain": [
       "              Business_ID  Cuisine_Type  Number_of_Reviews  Rating  \\\n",
       "0  44SY464xDHbvOcjDzRbKkQ             2               9709     4.0   \n",
       "1  44SY464xDHbvOcjDzRbKkQ             2               9709     4.0   \n",
       "2  H4jJ7XB3CetIr1pg56CczQ             6               7458     4.5   \n",
       "3  H4jJ7XB3CetIr1pg56CczQ             6               7458     4.5   \n",
       "4  WIhm0W9197f_rRtDziq5qQ             3               5826     4.0   \n",
       "\n",
       "   Recommended  \n",
       "0            1  \n",
       "1            1  \n",
       "2            1  \n",
       "3            1  \n",
       "4            1  "
      ]
     },
     "metadata": {},
     "output_type": "display_data"
    },
    {
     "data": {
      "text/plain": [
       "1    100\n",
       "0    100\n",
       "Name: Recommended, dtype: int64"
      ]
     },
     "metadata": {},
     "output_type": "display_data"
    },
    {
     "name": "stdout",
     "output_type": "stream",
     "text": [
      "[1 1 1 1 1 1 1 1 1 1 1 1 1 1 1 1 1 1 1 1 1 1 1 1 1 1 1 1 1 1 1 1 1 1 1 1 1\n",
      " 1 1 1 1 1 1 1 1 1 1 1 1 1 1 1 1 1 1 1 1 1 1 1 1 1 1 1 1 1 1 1 1 1 1 1 1 1\n",
      " 1 1 1 1 1 1 1 1 1 1 1 1 1 1 1 1 1 1 1 1 1 1 1 1 1 1 0 0 0 0 0 0 0 0 0 0 0\n",
      " 0 0 0 0 0 0 0 0 0 0 0 0 0 0 0 0 0 0 0 0 0 0 0 0 0 0 0 0 0 0 0 0 0 0 0 0 0\n",
      " 0 0 0 0 0 0 0 0 0 0 0 0 0 0 0 0 0 0 0 0 0 0 0 0 0 0 0 0 0 0 0 0 0 0 0 0 0\n",
      " 0 0 0 0 0 0 0 0 0 0 0 0 0 0 0]\n",
      "[[2.000e+00 9.709e+03 4.000e+00]\n",
      " [2.000e+00 9.709e+03 4.000e+00]\n",
      " [6.000e+00 7.458e+03 4.500e+00]\n",
      " [6.000e+00 7.458e+03 4.500e+00]\n",
      " [3.000e+00 5.826e+03 4.000e+00]\n",
      " [3.000e+00 5.826e+03 4.000e+00]\n",
      " [1.000e+00 5.687e+03 4.000e+00]\n",
      " [1.000e+00 5.687e+03 4.000e+00]\n",
      " [4.000e+00 5.294e+03 4.000e+00]\n",
      " [4.000e+00 5.294e+03 4.000e+00]\n",
      " [3.000e+00 5.249e+03 4.000e+00]\n",
      " [3.000e+00 5.249e+03 4.000e+00]\n",
      " [2.000e+00 5.161e+03 4.000e+00]\n",
      " [2.000e+00 5.161e+03 4.000e+00]\n",
      " [4.000e+00 4.996e+03 4.000e+00]\n",
      " [6.000e+00 4.996e+03 4.000e+00]\n",
      " [4.000e+00 4.996e+03 4.000e+00]\n",
      " [6.000e+00 4.996e+03 4.000e+00]\n",
      " [4.000e+00 4.603e+03 4.000e+00]\n",
      " [5.000e+00 4.603e+03 4.000e+00]\n",
      " [6.000e+00 4.603e+03 4.000e+00]\n",
      " [4.000e+00 4.603e+03 4.000e+00]\n",
      " [6.000e+00 4.603e+03 4.000e+00]\n",
      " [5.000e+00 4.603e+03 4.000e+00]\n",
      " [1.000e+00 4.140e+03 4.000e+00]\n",
      " [1.000e+00 4.140e+03 4.000e+00]\n",
      " [6.000e+00 4.120e+03 4.000e+00]\n",
      " [6.000e+00 4.120e+03 4.000e+00]\n",
      " [4.000e+00 4.038e+03 4.000e+00]\n",
      " [4.000e+00 4.038e+03 4.000e+00]\n",
      " [4.000e+00 3.884e+03 3.000e+00]\n",
      " [6.000e+00 3.884e+03 3.000e+00]\n",
      " [1.000e+00 3.735e+03 4.000e+00]\n",
      " [4.000e+00 3.735e+03 4.000e+00]\n",
      " [2.000e+00 3.735e+03 4.000e+00]\n",
      " [4.000e+00 3.735e+03 4.000e+00]\n",
      " [1.000e+00 3.735e+03 4.000e+00]\n",
      " [2.000e+00 3.735e+03 4.000e+00]\n",
      " [6.000e+00 3.631e+03 4.000e+00]\n",
      " [6.000e+00 3.631e+03 4.000e+00]\n",
      " [4.000e+00 3.630e+03 4.000e+00]\n",
      " [4.000e+00 3.630e+03 4.000e+00]\n",
      " [2.000e+00 3.429e+03 4.000e+00]\n",
      " [2.000e+00 3.429e+03 4.000e+00]\n",
      " [3.000e+00 3.325e+03 4.000e+00]\n",
      " [3.000e+00 3.325e+03 4.000e+00]\n",
      " [1.000e+00 3.320e+03 4.000e+00]\n",
      " [1.000e+00 3.320e+03 4.000e+00]\n",
      " [4.000e+00 3.236e+03 4.000e+00]\n",
      " [4.000e+00 3.236e+03 4.000e+00]\n",
      " [5.000e+00 3.090e+03 4.000e+00]\n",
      " [5.000e+00 3.090e+03 4.000e+00]\n",
      " [4.000e+00 3.037e+03 4.000e+00]\n",
      " [4.000e+00 3.037e+03 4.000e+00]\n",
      " [2.000e+00 2.930e+03 4.000e+00]\n",
      " [2.000e+00 2.930e+03 4.000e+00]\n",
      " [4.000e+00 2.905e+03 4.000e+00]\n",
      " [6.000e+00 2.905e+03 4.000e+00]\n",
      " [4.000e+00 2.905e+03 4.000e+00]\n",
      " [6.000e+00 2.905e+03 4.000e+00]\n",
      " [4.000e+00 2.862e+03 4.000e+00]\n",
      " [6.000e+00 2.862e+03 4.000e+00]\n",
      " [4.000e+00 2.862e+03 4.000e+00]\n",
      " [6.000e+00 2.862e+03 4.000e+00]\n",
      " [2.000e+00 2.829e+03 4.000e+00]\n",
      " [5.000e+00 2.783e+03 4.000e+00]\n",
      " [5.000e+00 2.783e+03 4.000e+00]\n",
      " [4.000e+00 2.752e+03 4.500e+00]\n",
      " [4.000e+00 2.752e+03 4.500e+00]\n",
      " [4.000e+00 2.731e+03 4.500e+00]\n",
      " [6.000e+00 2.731e+03 4.500e+00]\n",
      " [4.000e+00 2.731e+03 4.500e+00]\n",
      " [6.000e+00 2.731e+03 4.500e+00]\n",
      " [4.000e+00 2.715e+03 4.000e+00]\n",
      " [3.000e+00 2.715e+03 4.000e+00]\n",
      " [4.000e+00 2.715e+03 4.000e+00]\n",
      " [3.000e+00 2.715e+03 4.000e+00]\n",
      " [2.000e+00 2.702e+03 4.000e+00]\n",
      " [6.000e+00 2.675e+03 4.500e+00]\n",
      " [6.000e+00 2.675e+03 4.500e+00]\n",
      " [3.000e+00 2.674e+03 4.500e+00]\n",
      " [3.000e+00 2.674e+03 4.500e+00]\n",
      " [5.000e+00 2.632e+03 4.500e+00]\n",
      " [5.000e+00 2.632e+03 4.500e+00]\n",
      " [3.000e+00 2.629e+03 4.000e+00]\n",
      " [3.000e+00 2.629e+03 4.000e+00]\n",
      " [2.000e+00 2.515e+03 4.000e+00]\n",
      " [5.000e+00 2.514e+03 4.000e+00]\n",
      " [5.000e+00 2.514e+03 4.000e+00]\n",
      " [1.000e+00 2.501e+03 4.500e+00]\n",
      " [2.000e+00 2.501e+03 4.500e+00]\n",
      " [6.000e+00 2.501e+03 4.500e+00]\n",
      " [1.000e+00 2.501e+03 4.500e+00]\n",
      " [6.000e+00 2.501e+03 4.500e+00]\n",
      " [2.000e+00 2.501e+03 4.500e+00]\n",
      " [5.000e+00 2.459e+03 4.000e+00]\n",
      " [5.000e+00 2.459e+03 4.000e+00]\n",
      " [1.000e+00 2.442e+03 4.000e+00]\n",
      " [1.000e+00 2.442e+03 4.000e+00]\n",
      " [4.000e+00 2.428e+03 4.500e+00]\n",
      " [5.000e+00 1.000e+00 1.000e+00]\n",
      " [2.000e+00 1.000e+00 1.000e+00]\n",
      " [2.000e+00 1.000e+00 1.000e+00]\n",
      " [5.000e+00 1.000e+00 1.000e+00]\n",
      " [6.000e+00 2.000e+00 1.000e+00]\n",
      " [6.000e+00 2.000e+00 1.000e+00]\n",
      " [6.000e+00 4.000e+00 2.000e+00]\n",
      " [6.000e+00 4.000e+00 2.000e+00]\n",
      " [1.000e+00 6.000e+00 2.000e+00]\n",
      " [1.000e+00 6.000e+00 2.000e+00]\n",
      " [1.000e+00 2.900e+01 2.000e+00]\n",
      " [1.000e+00 2.900e+01 2.000e+00]\n",
      " [1.000e+00 3.000e+01 2.000e+00]\n",
      " [1.000e+00 3.000e+01 2.000e+00]\n",
      " [1.000e+00 3.200e+01 2.000e+00]\n",
      " [1.000e+00 3.200e+01 2.000e+00]\n",
      " [1.000e+00 3.800e+01 2.000e+00]\n",
      " [1.000e+00 3.800e+01 2.000e+00]\n",
      " [1.000e+00 4.000e+01 2.000e+00]\n",
      " [1.000e+00 4.000e+01 2.000e+00]\n",
      " [1.000e+00 6.700e+01 2.000e+00]\n",
      " [1.000e+00 6.700e+01 2.000e+00]\n",
      " [1.000e+00 8.000e+01 2.000e+00]\n",
      " [1.000e+00 8.000e+01 2.000e+00]\n",
      " [1.000e+00 1.010e+02 2.000e+00]\n",
      " [1.000e+00 1.010e+02 2.000e+00]\n",
      " [3.000e+00 3.030e+02 2.000e+00]\n",
      " [3.000e+00 3.030e+02 2.000e+00]\n",
      " [5.000e+00 2.000e+00 2.500e+00]\n",
      " [6.000e+00 2.000e+00 2.500e+00]\n",
      " [6.000e+00 2.000e+00 2.500e+00]\n",
      " [5.000e+00 2.000e+00 2.500e+00]\n",
      " [1.000e+00 3.000e+00 2.500e+00]\n",
      " [5.000e+00 3.000e+00 2.500e+00]\n",
      " [6.000e+00 3.000e+00 2.500e+00]\n",
      " [1.000e+00 3.000e+00 2.500e+00]\n",
      " [6.000e+00 3.000e+00 2.500e+00]\n",
      " [5.000e+00 3.000e+00 2.500e+00]\n",
      " [1.000e+00 4.000e+00 2.500e+00]\n",
      " [2.000e+00 4.000e+00 2.500e+00]\n",
      " [2.000e+00 4.000e+00 2.500e+00]\n",
      " [2.000e+00 4.000e+00 2.500e+00]\n",
      " [1.000e+00 4.000e+00 2.500e+00]\n",
      " [2.000e+00 4.000e+00 2.500e+00]\n",
      " [2.000e+00 4.000e+00 2.500e+00]\n",
      " [2.000e+00 4.000e+00 2.500e+00]\n",
      " [1.000e+00 7.000e+00 2.500e+00]\n",
      " [5.000e+00 7.000e+00 2.500e+00]\n",
      " [1.000e+00 7.000e+00 2.500e+00]\n",
      " [5.000e+00 7.000e+00 2.500e+00]\n",
      " [1.000e+00 9.000e+00 2.500e+00]\n",
      " [1.000e+00 9.000e+00 2.500e+00]\n",
      " [2.000e+00 1.000e+01 2.500e+00]\n",
      " [2.000e+00 1.000e+01 2.500e+00]\n",
      " [1.000e+00 1.100e+01 2.500e+00]\n",
      " [1.000e+00 1.100e+01 2.500e+00]\n",
      " [1.000e+00 1.100e+01 2.500e+00]\n",
      " [1.000e+00 1.100e+01 2.500e+00]\n",
      " [1.000e+00 1.200e+01 2.500e+00]\n",
      " [4.000e+00 1.200e+01 2.500e+00]\n",
      " [5.000e+00 1.200e+01 2.500e+00]\n",
      " [2.000e+00 1.200e+01 2.500e+00]\n",
      " [4.000e+00 1.200e+01 2.500e+00]\n",
      " [1.000e+00 1.200e+01 2.500e+00]\n",
      " [2.000e+00 1.200e+01 2.500e+00]\n",
      " [5.000e+00 1.200e+01 2.500e+00]\n",
      " [5.000e+00 1.300e+01 2.500e+00]\n",
      " [5.000e+00 1.300e+01 2.500e+00]\n",
      " [2.000e+00 1.600e+01 2.500e+00]\n",
      " [1.000e+00 1.800e+01 2.500e+00]\n",
      " [1.000e+00 1.800e+01 2.500e+00]\n",
      " [6.000e+00 1.800e+01 2.500e+00]\n",
      " [1.000e+00 1.800e+01 2.500e+00]\n",
      " [1.000e+00 1.800e+01 2.500e+00]\n",
      " [6.000e+00 1.800e+01 2.500e+00]\n",
      " [1.000e+00 1.900e+01 2.500e+00]\n",
      " [2.000e+00 1.900e+01 2.500e+00]\n",
      " [1.000e+00 1.900e+01 2.500e+00]\n",
      " [2.000e+00 1.900e+01 2.500e+00]\n",
      " [1.000e+00 2.000e+01 2.500e+00]\n",
      " [5.000e+00 2.000e+01 2.500e+00]\n",
      " [1.000e+00 2.000e+01 2.500e+00]\n",
      " [5.000e+00 2.000e+01 2.500e+00]\n",
      " [1.000e+00 2.200e+01 2.500e+00]\n",
      " [2.000e+00 2.200e+01 2.500e+00]\n",
      " [1.000e+00 2.200e+01 2.500e+00]\n",
      " [2.000e+00 2.200e+01 2.500e+00]\n",
      " [1.000e+00 2.300e+01 2.500e+00]\n",
      " [5.000e+00 2.300e+01 2.500e+00]\n",
      " [1.000e+00 2.300e+01 2.500e+00]\n",
      " [5.000e+00 2.300e+01 2.500e+00]\n",
      " [1.000e+00 2.800e+01 2.500e+00]\n",
      " [1.000e+00 2.800e+01 2.500e+00]\n",
      " [1.000e+00 3.000e+01 2.500e+00]\n",
      " [1.000e+00 3.000e+01 2.500e+00]\n",
      " [5.000e+00 3.000e+01 2.500e+00]\n",
      " [1.000e+00 3.000e+01 2.500e+00]\n",
      " [1.000e+00 3.000e+01 2.500e+00]\n",
      " [5.000e+00 3.000e+01 2.500e+00]\n",
      " [1.000e+00 3.100e+01 2.500e+00]]\n"
     ]
    }
   ],
   "source": [
    "cuisine_mapping = {'Chinese': 1, 'Korean': 2, 'Italian': 3, 'American': 4, 'Mexican': 5, 'France': 6}\n",
    "training = train_data.replace({'Cuisine_Type': cuisine_mapping})\n",
    "\n",
    "print(training.shape)\n",
    "display(training.head())\n",
    "display(training.Recommended.value_counts())\n",
    "\n",
    "# label\n",
    "train_y = training.iloc[:,4].as_matrix()\n",
    "print(train_y)\n",
    "\n",
    "# input features: Cuisine, NumberOfReviews, Rating\n",
    "train_X = training.iloc[:,[1, 2, 3]].as_matrix()\n",
    "print(train_X)"
   ]
  },
  {
   "cell_type": "markdown",
   "metadata": {},
   "source": [
    "Transform the datatype to RecordIO and upload to S3"
   ]
  },
  {
   "cell_type": "code",
   "execution_count": 9,
   "metadata": {},
   "outputs": [],
   "source": [
    "train_file = 'linear_train.data'\n",
    "\n",
    "# Convert the training data into the format required by the SageMaker Linear Learner algorithm\n",
    "buf = io.BytesIO()\n",
    "smac.write_numpy_to_dense_tensor(buf, train_X.astype('float32'), train_y.astype('float32'))\n",
    "buf.seek(0)\n",
    "\n",
    "boto3.resource('s3').Bucket(bucket).Object(os.path.join(prefix, 'train', train_file)).upload_fileobj(buf)"
   ]
  },
  {
   "cell_type": "markdown",
   "metadata": {
    "nbpresent": {
     "id": "f3b125ad-a2d5-464c-8cfa-bd203034eee4"
    }
   },
   "source": [
    "---\n",
    "## Train"
   ]
  },
  {
   "cell_type": "markdown",
   "metadata": {},
   "source": [
    "Specify container images used for training SageMaker's linear-learner"
   ]
  },
  {
   "cell_type": "code",
   "execution_count": 10,
   "metadata": {},
   "outputs": [],
   "source": [
    "container = get_image_uri(boto3.Session().region_name, 'linear-learner')"
   ]
  },
  {
   "cell_type": "markdown",
   "metadata": {},
   "source": [
    "Prepare the parameters for the training job"
   ]
  },
  {
   "cell_type": "code",
   "execution_count": 11,
   "metadata": {
    "nbpresent": {
     "id": "397fb60a-c48b-453f-88ea-4d832b70c919"
    }
   },
   "outputs": [],
   "source": [
    "linear_job = 'linear-lowlevel-' + time.strftime(\"%Y-%m-%d-%H-%M-%S\", time.gmtime())\n",
    "#print(\"Job name is:\", linear_job)\n",
    "\n",
    "linear_training_params = {\n",
    "    \"RoleArn\": role,\n",
    "    \"TrainingJobName\": linear_job,\n",
    "    \"AlgorithmSpecification\": {\n",
    "        \"TrainingImage\": container,\n",
    "        \"TrainingInputMode\": \"File\"\n",
    "    },\n",
    "    \"ResourceConfig\": {\n",
    "        \"InstanceCount\": 1,\n",
    "        \"InstanceType\": \"ml.c4.2xlarge\",\n",
    "        \"VolumeSizeInGB\": 10\n",
    "    },\n",
    "    \"InputDataConfig\": [\n",
    "        {\n",
    "            \"ChannelName\": \"train\",\n",
    "            \"DataSource\": {\n",
    "                \"S3DataSource\": {\n",
    "                    \"S3DataType\": \"S3Prefix\",\n",
    "                    \"S3Uri\": \"s3://{}/{}/train/\".format(bucket, prefix),\n",
    "                    \"S3DataDistributionType\": \"ShardedByS3Key\"\n",
    "                }\n",
    "            },\n",
    "            \"CompressionType\": \"None\",\n",
    "            \"RecordWrapperType\": \"None\"\n",
    "        }\n",
    "    ],\n",
    "    \"OutputDataConfig\": {\n",
    "        \"S3OutputPath\": \"s3://{}/{}/model/\".format(bucket, prefix)\n",
    "    },\n",
    "    \"HyperParameters\": {\n",
    "        \"feature_dim\": \"3\",\n",
    "        \"mini_batch_size\": \"10\",\n",
    "        \"predictor_type\": \"binary_classifier\",\n",
    "        \"epochs\": \"15\",\n",
    "        \"num_models\": \"32\",\n",
    "        \"loss\": \"logistic\"\n",
    "    },\n",
    "    \"StoppingCondition\": {\n",
    "        \"MaxRuntimeInSeconds\": 60 * 60\n",
    "    }\n",
    "}"
   ]
  },
  {
   "cell_type": "markdown",
   "metadata": {},
   "source": [
    "Create a training job and train the model"
   ]
  },
  {
   "cell_type": "code",
   "execution_count": 12,
   "metadata": {},
   "outputs": [
    {
     "name": "stdout",
     "output_type": "stream",
     "text": [
      "InProgress\n",
      "Training job ended with status: Completed\n",
      "CPU times: user 74.6 ms, sys: 4.17 ms, total: 78.8 ms\n",
      "Wall time: 4min\n"
     ]
    }
   ],
   "source": [
    "%%time\n",
    "\n",
    "sm = boto3.client('sagemaker')\n",
    "\n",
    "sm.create_training_job(**linear_training_params)\n",
    "\n",
    "status = sm.describe_training_job(TrainingJobName=linear_job)['TrainingJobStatus']\n",
    "print(status)\n",
    "\n",
    "try:\n",
    "    sm.get_waiter('training_job_completed_or_stopped').wait(TrainingJobName=linear_job)\n",
    "finally:\n",
    "    status = sm.describe_training_job(TrainingJobName=linear_job)['TrainingJobStatus']\n",
    "    print(\"Training job ended with status: \" + status)\n",
    "    if status == 'Failed':\n",
    "        message = sm.describe_training_job(TrainingJobName=linear_job)['FailureReason']\n",
    "        print('Training failed with the following error: {}'.format(message))\n",
    "        raise Exception('Training job failed')"
   ]
  },
  {
   "cell_type": "markdown",
   "metadata": {},
   "source": [
    "---\n",
    "## Deploy"
   ]
  },
  {
   "cell_type": "markdown",
   "metadata": {},
   "source": [
    "Import testing dataset from FILE_1.csv"
   ]
  },
  {
   "cell_type": "code",
   "execution_count": 14,
   "metadata": {
    "scrolled": true
   },
   "outputs": [
    {
     "name": "stdout",
     "output_type": "stream",
     "text": [
      "(6000, 4)\n"
     ]
    },
    {
     "data": {
      "text/html": [
       "<div>\n",
       "<style scoped>\n",
       "    .dataframe tbody tr th:only-of-type {\n",
       "        vertical-align: middle;\n",
       "    }\n",
       "\n",
       "    .dataframe tbody tr th {\n",
       "        vertical-align: top;\n",
       "    }\n",
       "\n",
       "    .dataframe thead th {\n",
       "        text-align: right;\n",
       "    }\n",
       "</style>\n",
       "<table border=\"1\" class=\"dataframe\">\n",
       "  <thead>\n",
       "    <tr style=\"text-align: right;\">\n",
       "      <th></th>\n",
       "      <th>Business_ID</th>\n",
       "      <th>Cuisine_Type</th>\n",
       "      <th>Number_of_Reviews</th>\n",
       "      <th>Rating</th>\n",
       "    </tr>\n",
       "  </thead>\n",
       "  <tbody>\n",
       "    <tr>\n",
       "      <th>0</th>\n",
       "      <td>_BL1-CT06HGkiA3jcucu2Q</td>\n",
       "      <td>Chinese</td>\n",
       "      <td>31</td>\n",
       "      <td>2.5</td>\n",
       "    </tr>\n",
       "    <tr>\n",
       "      <th>1</th>\n",
       "      <td>24zawWdBJLwm6lsqLDqfHQ</td>\n",
       "      <td>Korean</td>\n",
       "      <td>33</td>\n",
       "      <td>2.5</td>\n",
       "    </tr>\n",
       "    <tr>\n",
       "      <th>2</th>\n",
       "      <td>24zawWdBJLwm6lsqLDqfHQ</td>\n",
       "      <td>Korean</td>\n",
       "      <td>33</td>\n",
       "      <td>2.5</td>\n",
       "    </tr>\n",
       "    <tr>\n",
       "      <th>3</th>\n",
       "      <td>y8Z9Tos6qtDVd0X0QVm70g</td>\n",
       "      <td>Chinese</td>\n",
       "      <td>34</td>\n",
       "      <td>2.5</td>\n",
       "    </tr>\n",
       "    <tr>\n",
       "      <th>4</th>\n",
       "      <td>y8Z9Tos6qtDVd0X0QVm70g</td>\n",
       "      <td>Chinese</td>\n",
       "      <td>34</td>\n",
       "      <td>2.5</td>\n",
       "    </tr>\n",
       "  </tbody>\n",
       "</table>\n",
       "</div>"
      ],
      "text/plain": [
       "              Business_ID Cuisine_Type  Number_of_Reviews  Rating\n",
       "0  _BL1-CT06HGkiA3jcucu2Q      Chinese                 31     2.5\n",
       "1  24zawWdBJLwm6lsqLDqfHQ       Korean                 33     2.5\n",
       "2  24zawWdBJLwm6lsqLDqfHQ       Korean                 33     2.5\n",
       "3  y8Z9Tos6qtDVd0X0QVm70g      Chinese                 34     2.5\n",
       "4  y8Z9Tos6qtDVd0X0QVm70g      Chinese                 34     2.5"
      ]
     },
     "metadata": {},
     "output_type": "display_data"
    }
   ],
   "source": [
    "test_data = pd.read_csv('s3://yelp-test/my-restaurants/FILE_1.csv')\n",
    "train_data.columns = [\"Business_ID\", \"Cuisine_Type\", \"Number_of_Reviews\", \"Rating\", \"Recommended\"]\n",
    "print(test_data.shape)    # print the shape of the data file\n",
    "display(test_data.head())     # show the top few rows\n",
    "#print(testing.iloc[0]['Rating'])\n",
    "#print(len(testing.index))"
   ]
  },
  {
   "cell_type": "markdown",
   "metadata": {},
   "source": [
    "Prepare the input features"
   ]
  },
  {
   "cell_type": "code",
   "execution_count": 15,
   "metadata": {},
   "outputs": [
    {
     "name": "stdout",
     "output_type": "stream",
     "text": [
      "(6000, 4)\n"
     ]
    },
    {
     "data": {
      "text/html": [
       "<div>\n",
       "<style scoped>\n",
       "    .dataframe tbody tr th:only-of-type {\n",
       "        vertical-align: middle;\n",
       "    }\n",
       "\n",
       "    .dataframe tbody tr th {\n",
       "        vertical-align: top;\n",
       "    }\n",
       "\n",
       "    .dataframe thead th {\n",
       "        text-align: right;\n",
       "    }\n",
       "</style>\n",
       "<table border=\"1\" class=\"dataframe\">\n",
       "  <thead>\n",
       "    <tr style=\"text-align: right;\">\n",
       "      <th></th>\n",
       "      <th>Business_ID</th>\n",
       "      <th>Cuisine_Type</th>\n",
       "      <th>Number_of_Reviews</th>\n",
       "      <th>Rating</th>\n",
       "    </tr>\n",
       "  </thead>\n",
       "  <tbody>\n",
       "    <tr>\n",
       "      <th>0</th>\n",
       "      <td>_BL1-CT06HGkiA3jcucu2Q</td>\n",
       "      <td>1</td>\n",
       "      <td>31</td>\n",
       "      <td>2.5</td>\n",
       "    </tr>\n",
       "    <tr>\n",
       "      <th>1</th>\n",
       "      <td>24zawWdBJLwm6lsqLDqfHQ</td>\n",
       "      <td>2</td>\n",
       "      <td>33</td>\n",
       "      <td>2.5</td>\n",
       "    </tr>\n",
       "    <tr>\n",
       "      <th>2</th>\n",
       "      <td>24zawWdBJLwm6lsqLDqfHQ</td>\n",
       "      <td>2</td>\n",
       "      <td>33</td>\n",
       "      <td>2.5</td>\n",
       "    </tr>\n",
       "    <tr>\n",
       "      <th>3</th>\n",
       "      <td>y8Z9Tos6qtDVd0X0QVm70g</td>\n",
       "      <td>1</td>\n",
       "      <td>34</td>\n",
       "      <td>2.5</td>\n",
       "    </tr>\n",
       "    <tr>\n",
       "      <th>4</th>\n",
       "      <td>y8Z9Tos6qtDVd0X0QVm70g</td>\n",
       "      <td>1</td>\n",
       "      <td>34</td>\n",
       "      <td>2.5</td>\n",
       "    </tr>\n",
       "  </tbody>\n",
       "</table>\n",
       "</div>"
      ],
      "text/plain": [
       "              Business_ID  Cuisine_Type  Number_of_Reviews  Rating\n",
       "0  _BL1-CT06HGkiA3jcucu2Q             1                 31     2.5\n",
       "1  24zawWdBJLwm6lsqLDqfHQ             2                 33     2.5\n",
       "2  24zawWdBJLwm6lsqLDqfHQ             2                 33     2.5\n",
       "3  y8Z9Tos6qtDVd0X0QVm70g             1                 34     2.5\n",
       "4  y8Z9Tos6qtDVd0X0QVm70g             1                 34     2.5"
      ]
     },
     "metadata": {},
     "output_type": "display_data"
    },
    {
     "name": "stdout",
     "output_type": "stream",
     "text": [
      "[[  1.   31.    2.5]\n",
      " [  2.   33.    2.5]\n",
      " [  2.   33.    2.5]\n",
      " ...\n",
      " [  5.  339.    5. ]\n",
      " [  4.  677.    5. ]\n",
      " [  5.  677.    5. ]]\n"
     ]
    }
   ],
   "source": [
    "testing = test_data.replace({'Cuisine_Type': cuisine_mapping})\n",
    "\n",
    "print(testing.shape)\n",
    "display(testing.head())\n",
    "\n",
    "test_X = testing.iloc[:,[1, 2, 3]].as_matrix()\n",
    "print(test_X)"
   ]
  },
  {
   "cell_type": "markdown",
   "metadata": {},
   "source": [
    "Transform the datatype to RecordIO and upload to s3"
   ]
  },
  {
   "cell_type": "code",
   "execution_count": 16,
   "metadata": {},
   "outputs": [],
   "source": [
    "test_file = 'linear_test.data'\n",
    "\n",
    "# Convert the testing data into the format required by the SageMaker Linear Learner algorithm\n",
    "buf = io.BytesIO()\n",
    "smac.write_numpy_to_dense_tensor(buf, test_X.astype('float32'))\n",
    "buf.seek(0)\n",
    "\n",
    "boto3.resource('s3').Bucket(bucket).Object(os.path.join(prefix, 'test', test_file)).upload_fileobj(buf)"
   ]
  },
  {
   "cell_type": "markdown",
   "metadata": {},
   "source": [
    "Create a model from the model artifacts"
   ]
  },
  {
   "cell_type": "code",
   "execution_count": 17,
   "metadata": {},
   "outputs": [
    {
     "name": "stdout",
     "output_type": "stream",
     "text": [
      "linear-lowlevel-2019-04-25-17-33-41\n",
      "arn:aws:sagemaker:us-east-1:791032249995:model/linear-lowlevel-2019-04-25-17-33-41\n",
      "CPU times: user 18.4 ms, sys: 0 ns, total: 18.4 ms\n",
      "Wall time: 367 ms\n"
     ]
    }
   ],
   "source": [
    "%%time\n",
    "\n",
    "model_name = linear_job\n",
    "print(model_name)\n",
    "\n",
    "info = sm.describe_training_job(TrainingJobName=linear_job)\n",
    "model_data = info['ModelArtifacts']['S3ModelArtifacts']\n",
    "\n",
    "primary_container = {\n",
    "    'Image': container,\n",
    "    'ModelDataUrl': model_data\n",
    "}\n",
    "\n",
    "create_model_response = sm.create_model(\n",
    "    ModelName = model_name,\n",
    "    ExecutionRoleArn = role,\n",
    "    PrimaryContainer = primary_container)\n",
    "\n",
    "print(create_model_response['ModelArn'])"
   ]
  },
  {
   "cell_type": "markdown",
   "metadata": {},
   "source": [
    "Create a batch transform job and infer the label for testing dataset"
   ]
  },
  {
   "cell_type": "code",
   "execution_count": 18,
   "metadata": {},
   "outputs": [
    {
     "name": "stdout",
     "output_type": "stream",
     "text": [
      "Job name is: Batch-Transform-2019-04-25-17-38-55\n",
      "Transform job is still in status: InProgress\n",
      "Transform job is still in status: InProgress\n",
      "Transform job is still in status: InProgress\n",
      "Transform job is still in status: InProgress\n",
      "Transform job ended with status: Completed\n"
     ]
    }
   ],
   "source": [
    "batch_job = 'Batch-Transform-' + time.strftime(\"%Y-%m-%d-%H-%M-%S\", time.gmtime())\n",
    "print(\"Job name is:\", batch_job)\n",
    "\n",
    "batch_transform_params = {\n",
    "    \"TransformJobName\": batch_job,\n",
    "    \"ModelName\": model_name,\n",
    "    \"MaxConcurrentTransforms\": 0,\n",
    "    \"MaxPayloadInMB\": 6,\n",
    "    \"BatchStrategy\": \"MultiRecord\",\n",
    "    \"TransformOutput\": {\n",
    "        \"S3OutputPath\": \"s3://{}/{}/result/\".format(bucket, prefix)\n",
    "    },\n",
    "    \"TransformInput\": {\n",
    "        \"DataSource\": {\n",
    "            \"S3DataSource\": {\n",
    "                \"S3DataType\": \"S3Prefix\",\n",
    "                \"S3Uri\": \"s3://{}/{}/test/\".format(bucket, prefix) \n",
    "            }\n",
    "        },\n",
    "        \"ContentType\": \"application/x-recordio-protobuf\",\n",
    "        \"SplitType\": \"RecordIO\",\n",
    "        \"CompressionType\": \"None\"\n",
    "    },\n",
    "    \"TransformResources\": {\n",
    "            \"InstanceType\": \"ml.m4.xlarge\",\n",
    "            \"InstanceCount\": 1\n",
    "    }\n",
    "}\n",
    "\n",
    "sm.create_transform_job(**batch_transform_params)\n",
    "\n",
    "### Wait until the job finishes\n",
    "while(True):\n",
    "    response = sm.describe_transform_job(TransformJobName=batch_job)\n",
    "    status = response['TransformJobStatus']\n",
    "    if  status == 'Completed':\n",
    "        print(\"Transform job ended with status: \" + status)\n",
    "        break\n",
    "    if status == 'Failed':\n",
    "        message = response['FailureReason']\n",
    "        print('Transform failed with the following error: {}'.format(message))\n",
    "        raise Exception('Transform job failed') \n",
    "    print(\"Transform job is still in status: \" + status)    \n",
    "    time.sleep(60)    "
   ]
  },
  {
   "cell_type": "markdown",
   "metadata": {},
   "source": [
    "Process the prediction result (FILE_3.csv) and upload to S3"
   ]
  },
  {
   "cell_type": "code",
   "execution_count": 19,
   "metadata": {},
   "outputs": [],
   "source": [
    "### Fetch the transform output\n",
    "s3_client = boto3.client('s3')\n",
    "\n",
    "output_key = \"my-restaurants/result/linear_test.data.out\"\n",
    "s3_client.download_file(bucket, output_key, '/tmp/test-result')\n",
    "\n",
    "# open a file for writing\n",
    "labeled_result = open('/tmp/FILE_3.csv', 'w')\n",
    "csvwriter = csv.writer(labeled_result)\n",
    "csvwriter.writerow(['Label','Score','Business_ID','Cuisine_Type','Number_of_Reviews','Rating'])\n",
    "\n",
    "# write to csv\n",
    "with open('/tmp/test-result') as f:\n",
    "    results = f.readlines()\n",
    "    \n",
    "    #print(len(results))\n",
    "\n",
    "    for i in range(0, len(results)):\n",
    "        result_json = json.loads(results[i])\n",
    "        result_json['Business_ID'] = test_data.iloc[i]['Business_ID']\n",
    "        result_json['Cuisine_Type'] = test_data.iloc[i]['Cuisine_Type']\n",
    "        result_json['Number_of_Reviews'] = test_data.iloc[i]['Number_of_Reviews']\n",
    "        result_json['Rating'] = test_data.iloc[i]['Rating']\n",
    "        \n",
    "        csvwriter.writerow(result_json.values())\n",
    "\n",
    "labeled_result.close()\n",
    "\n",
    "# upload file to S3\n",
    "upload_key = \"my-restaurants/FILE_3.csv\"\n",
    "s3_client.upload_file('/tmp/FILE_3.csv', bucket, upload_key)"
   ]
  },
  {
   "cell_type": "code",
   "execution_count": null,
   "metadata": {},
   "outputs": [],
   "source": []
  }
 ],
 "metadata": {
  "kernelspec": {
   "display_name": "conda_python3",
   "language": "python",
   "name": "conda_python3"
  },
  "language_info": {
   "codemirror_mode": {
    "name": "ipython",
    "version": 3
   },
   "file_extension": ".py",
   "mimetype": "text/x-python",
   "name": "python",
   "nbconvert_exporter": "python",
   "pygments_lexer": "ipython3",
   "version": "3.6.5"
  },
  "notice": "Copyright 2017 Amazon.com, Inc. or its affiliates. All Rights Reserved.  Licensed under the Apache License, Version 2.0 (the License). You may not use this file except in compliance with the License. A copy of the License is located at http://aws.amazon.com/apache2.0/ or in the license file accompanying this file. This file is distributed on an AS IS BASIS, WITHOUT WARRANTIES OR CONDITIONS OF ANY KIND, either express or implied. See the License for the specific language governing permissions and limitations under the License."
 },
 "nbformat": 4,
 "nbformat_minor": 2
}
